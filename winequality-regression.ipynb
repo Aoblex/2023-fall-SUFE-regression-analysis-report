{
 "cells": [
  {
   "cell_type": "markdown",
   "metadata": {},
   "source": [
    "# 参数设置"
   ]
  },
  {
   "cell_type": "code",
   "execution_count": 35,
   "metadata": {
    "vscode": {
     "languageId": "r"
    }
   },
   "outputs": [],
   "source": [
    "# 数据集文件夹名\n",
    "wine.dataset.folder <- \"datasets\"\n",
    "\n",
    "# 图像文件夹名\n",
    "figure.folder <- \"figures\"\n",
    "\n",
    "# 模型结果文件夹名\n",
    "model.summary.folder <- \"model-summary\"\n",
    "\n",
    "# 数据集名称\n",
    "red.wine.filename <- \"winequality-red.csv\"\n",
    "\n",
    "# 分割线\n",
    "seperation.line <- \"-------------------------------------------------------------------------\\n\"\n",
    "\n",
    "# 加载 packages\n",
    "library(ggplot2)\n",
    "library(xtable)\n",
    "library(lmtest)\n",
    "library(car)\n",
    "library(MASS)\n",
    "library(glmnet)\n",
    "library(e1071)"
   ]
  },
  {
   "cell_type": "markdown",
   "metadata": {},
   "source": [
    "# 描述性统计"
   ]
  },
  {
   "cell_type": "code",
   "execution_count": 36,
   "metadata": {
    "vscode": {
     "languageId": "r"
    }
   },
   "outputs": [
    {
     "name": "stdout",
     "output_type": "stream",
     "text": [
      "'data.frame':\t559 obs. of  12 variables:\n",
      " $ fixed.acidity       : num  8.67 7.98 9.16 7.81 10.48 ...\n",
      " $ volatile.acidity    : num  0.764 0.842 0.841 0.453 0.312 ...\n",
      " $ citric.acid         : num  0.495 0.162 0.228 0.334 0.619 ...\n",
      " $ residual.sugar      : num  1.48 2.2 2.29 1.5 1.88 ...\n",
      " $ chlorides           : num  0.6876 0.1309 0.1014 -0.0147 0.1565 ...\n",
      " $ free.sulfur.dioxide : num  11.88 9.01 9.98 8.9 5.92 ...\n",
      " $ total.sulfur.dioxide: num  66 22.9 103 29.2 24 ...\n",
      " $ density             : num  0.947 1.091 1.037 0.885 1.074 ...\n",
      " $ pH                  : num  2.91 3.26 2.95 3.32 3.08 ...\n",
      " $ sulphates           : num  0.4035 0.7008 0.855 1.2378 0.0798 ...\n",
      " $ alcohol             : num  9.15 10.34 10.23 9.14 10.95 ...\n",
      " $ quality             : int  5 5 6 5 7 7 5 4 6 7 ...\n"
     ]
    }
   ],
   "source": [
    "# 读取红酒数据\n",
    "red.wine.path <- file.path(wine.dataset.folder, red.wine.filename)\n",
    "red.wine <- read.csv(red.wine.path, sep = \",\")\n",
    "str(red.wine)"
   ]
  },
  {
   "cell_type": "code",
   "execution_count": 37,
   "metadata": {
    "vscode": {
     "languageId": "r"
    }
   },
   "outputs": [
    {
     "name": "stdout",
     "output_type": "stream",
     "text": [
      "% latex table generated in R 4.1.2 by xtable 1.8-4 package\n",
      "% Fri Jan  5 03:36:05 2024\n",
      "\\begin{table}[ht]\n",
      "\\centering\n",
      "\\begin{tabular}{rllll}\n",
      "  \\hline\n",
      " & fixed.acidity & volatile.acidity &  citric.acid & residual.sugar \\\\ \n",
      "  \\hline\n",
      "X & Min.   : 6.557   & Min.   :0.0052   & Min.   :-0.1331   & Min.   :1.223   \\\\ \n",
      "  X.1 & 1st Qu.: 7.857   & 1st Qu.:0.3278   & 1st Qu.: 0.3126   & 1st Qu.:1.784   \\\\ \n",
      "  X.2 & Median : 8.622   & Median :0.4581   & Median : 0.4563   & Median :1.977   \\\\ \n",
      "  X.3 & Mean   : 8.859   & Mean   :0.4808   & Mean   : 0.4535   & Mean   :2.407   \\\\ \n",
      "  X.4 & 3rd Qu.: 9.309   & 3rd Qu.:0.6300   & 3rd Qu.: 0.5803   & 3rd Qu.:2.457   \\\\ \n",
      "  X.5 & Max.   :12.642   & Max.   :1.0396   & Max.   : 1.1742   & Max.   :6.780   \\\\ \n",
      "   \\hline\n",
      "\\end{tabular}\n",
      "\\end{table}\n",
      "% latex table generated in R 4.1.2 by xtable 1.8-4 package\n",
      "% Fri Jan  5 03:36:05 2024\n",
      "\\begin{table}[ht]\n",
      "\\centering\n",
      "\\begin{tabular}{rllll}\n",
      "  \\hline\n",
      " &   chlorides & free.sulfur.dioxide & total.sulfur.dioxide &    density \\\\ \n",
      "  \\hline\n",
      "X & Min.   :-0.17986   & Min.   : 2.872   & Min.   :  9.874   & Min.   :0.7226   \\\\ \n",
      "  X.1 & 1st Qu.: 0.07193   & 1st Qu.: 8.041   & 1st Qu.: 24.112   & 1st Qu.:0.9328   \\\\ \n",
      "  X.2 & Median : 0.16598   & Median :15.930   & Median : 56.041   & Median :0.9960   \\\\ \n",
      "  X.3 & Mean   : 0.21012   & Mean   :16.475   & Mean   : 63.791   & Mean   :1.0014   \\\\ \n",
      "  X.4 & 3rd Qu.: 0.35014   & 3rd Qu.:22.089   & 3rd Qu.:102.992   & 3rd Qu.:1.0719   \\\\ \n",
      "  X.5 & Max.   : 0.76331   & Max.   :39.160   & Max.   :151.197   & Max.   :1.2901   \\\\ \n",
      "   \\hline\n",
      "\\end{tabular}\n",
      "\\end{table}\n",
      "% latex table generated in R 4.1.2 by xtable 1.8-4 package\n",
      "% Fri Jan  5 03:36:05 2024\n",
      "\\begin{table}[ht]\n",
      "\\centering\n",
      "\\begin{tabular}{rllll}\n",
      "  \\hline\n",
      " &       pH &   sulphates &    alcohol &    quality \\\\ \n",
      "  \\hline\n",
      "X & Min.   :2.611   & Min.   :-0.09304   & Min.   : 8.768   & Min.   :4.000   \\\\ \n",
      "  X.1 & 1st Qu.:3.017   & 1st Qu.: 0.34213   & 1st Qu.: 9.273   & 1st Qu.:5.000   \\\\ \n",
      "  X.2 & Median :3.134   & Median : 0.50100   & Median : 9.498   & Median :5.000   \\\\ \n",
      "  X.3 & Mean   :3.129   & Mean   : 0.64124   & Mean   : 9.888   & Mean   :5.581   \\\\ \n",
      "  X.4 & 3rd Qu.:3.256   & 3rd Qu.: 0.72854   & 3rd Qu.:10.346   & 3rd Qu.:6.000   \\\\ \n",
      "  X.5 & Max.   :3.582   & Max.   : 2.84062   & Max.   :12.465   & Max.   :8.000   \\\\ \n",
      "   \\hline\n",
      "\\end{tabular}\n",
      "\\end{table}\n"
     ]
    }
   ],
   "source": [
    "print(xtable(summary(red.wine[, 1:4])))\n",
    "print(xtable(summary(red.wine[, 5:8])))\n",
    "print(xtable(summary(red.wine[, 9:12])))"
   ]
  },
  {
   "cell_type": "markdown",
   "metadata": {},
   "source": [
    "## 因变量描述"
   ]
  },
  {
   "cell_type": "code",
   "execution_count": 38,
   "metadata": {
    "vscode": {
     "languageId": "r"
    }
   },
   "outputs": [
    {
     "data": {
      "text/html": [
       "<strong>png:</strong> 2"
      ],
      "text/latex": [
       "\\textbf{png:} 2"
      ],
      "text/markdown": [
       "**png:** 2"
      ],
      "text/plain": [
       "png \n",
       "  2 "
      ]
     },
     "metadata": {},
     "output_type": "display_data"
    }
   ],
   "source": [
    "# 获取频率直方图\n",
    "frequency_table <- table(red.wine$quality)\n",
    "red.wine.quality.frequency.figure.path <- file.path(figure.folder, \"quality-frequency.png\")\n",
    "\n",
    "# 保存图像\n",
    "png(filename = red.wine.quality.frequency.figure.path) \n",
    "barplot(frequency_table, main = \"Frequency of quality\", xlab = \"Quality\", ylab = \"Frequency\")\n",
    "dev.off()"
   ]
  },
  {
   "cell_type": "markdown",
   "metadata": {},
   "source": [
    "## 自变量描述"
   ]
  },
  {
   "cell_type": "code",
   "execution_count": 39,
   "metadata": {
    "vscode": {
     "languageId": "r"
    }
   },
   "outputs": [],
   "source": [
    "distribution.and.boxplot <- function(col){\n",
    "    figure.path <- file.path(figure.folder, paste0(col, \"-plot.png\"))\n",
    "    frequency_table <- table(red.wine[[col]])\n",
    "    png(filename = figure.path, width = 800)\n",
    "    par(mfrow = c(1, 1))\n",
    "    barplot(frequency_table, main = paste0(\"Frequency of \", col), xlab = col, ylab = \"Frequency\")\n",
    "    boxplot(red.wine[[col]] ~ red.wine$quality,\n",
    "    \n",
    "            main = paste0(\"Box plot of \", col, \" by quality\"),\n",
    "            ylab = col, xlab = \"Quality\")\n",
    "    dev.off()\n",
    "}\n",
    "\n",
    "# 绘制所有特征的分布图和箱线图\n",
    "for(col in names(red.wine)){\n",
    "    if(col != \"quality\"){\n",
    "        distribution.and.boxplot(col)\n",
    "    }\n",
    "}"
   ]
  },
  {
   "cell_type": "markdown",
   "metadata": {},
   "source": [
    "# 模型拟合"
   ]
  },
  {
   "cell_type": "code",
   "execution_count": 40,
   "metadata": {
    "vscode": {
     "languageId": "r"
    }
   },
   "outputs": [],
   "source": [
    "save_red_wine_model_summary <- function(model, file_name) {\n",
    "  # 创建完整文件路径\n",
    "  file_path <- file.path(model.summary.folder, paste0(file_name, \".txt\"))\n",
    "\n",
    "  # 将summary输出捕获到字符向量\n",
    "  summary_text <- capture.output(xtable(summary(model)))\n",
    "\n",
    "  # 将summary输出写入txt文件\n",
    "  writeLines(summary_text, file_path)\n",
    "\n",
    "  cat(\"Model summary saved to:\", file_path, \"\\n\")\n",
    "}"
   ]
  },
  {
   "cell_type": "markdown",
   "metadata": {},
   "source": [
    "### 线性回归全模型"
   ]
  },
  {
   "cell_type": "code",
   "execution_count": 41,
   "metadata": {
    "vscode": {
     "languageId": "r"
    }
   },
   "outputs": [
    {
     "name": "stdout",
     "output_type": "stream",
     "text": [
      "Model summary saved to: model-summary/linear-model.txt \n"
     ]
    },
    {
     "data": {
      "text/html": [
       "<strong>png:</strong> 2"
      ],
      "text/latex": [
       "\\textbf{png:} 2"
      ],
      "text/markdown": [
       "**png:** 2"
      ],
      "text/plain": [
       "png \n",
       "  2 "
      ]
     },
     "metadata": {},
     "output_type": "display_data"
    },
    {
     "data": {
      "text/plain": [
       "\n",
       "Call:\n",
       "lm(formula = quality ~ ., data = red.wine)\n",
       "\n",
       "Residuals:\n",
       "     Min       1Q   Median       3Q      Max \n",
       "-1.39496 -0.37997 -0.03304  0.31153  2.22009 \n",
       "\n",
       "Coefficients:\n",
       "                      Estimate Std. Error t value Pr(>|t|)    \n",
       "(Intercept)           1.557696   0.865071   1.801 0.072308 .  \n",
       "fixed.acidity         0.077067   0.021958   3.510 0.000485 ***\n",
       "volatile.acidity     -1.044835   0.147715  -7.073 4.65e-12 ***\n",
       "citric.acid           0.088578   0.153774   0.576 0.564832    \n",
       "residual.sugar        0.010021   0.027679   0.362 0.717450    \n",
       "chlorides            -0.216679   0.189084  -1.146 0.252320    \n",
       "free.sulfur.dioxide  -0.018150   0.004423  -4.103 4.69e-05 ***\n",
       "total.sulfur.dioxide -0.000776   0.001193  -0.650 0.515737    \n",
       "density               0.146181   0.243681   0.600 0.548830    \n",
       "pH                   -0.234897   0.207184  -1.134 0.257391    \n",
       "sulphates            -0.062618   0.055024  -1.138 0.255614    \n",
       "alcohol               0.485637   0.037607  12.913  < 2e-16 ***\n",
       "---\n",
       "Signif. codes:  0 ‘***’ 0.001 ‘**’ 0.01 ‘*’ 0.05 ‘.’ 0.1 ‘ ’ 1\n",
       "\n",
       "Residual standard error: 0.5762 on 547 degrees of freedom\n",
       "Multiple R-squared:  0.5656,\tAdjusted R-squared:  0.5569 \n",
       "F-statistic: 64.76 on 11 and 547 DF,  p-value: < 2.2e-16\n"
      ]
     },
     "metadata": {},
     "output_type": "display_data"
    }
   ],
   "source": [
    "linear.model <- lm(quality ~ ., data = red.wine)\n",
    "#print(xtable(summary(linear.model)))\n",
    "save_red_wine_model_summary(linear.model, \"linear-model\")\n",
    "par(mfrow = c(2, 2))\n",
    "linear.model.plot.path <- file.path(model.summary.folder, \"linear-model-plot.png\")\n",
    "png(linear.model.plot.path)\n",
    "par(mfrow = c(2, 2))\n",
    "plot(linear.model)\n",
    "dev.off()\n",
    "summary(linear.model)"
   ]
  },
  {
   "cell_type": "markdown",
   "metadata": {},
   "source": [
    "#### 模型检验"
   ]
  },
  {
   "cell_type": "code",
   "execution_count": 42,
   "metadata": {
    "vscode": {
     "languageId": "r"
    }
   },
   "outputs": [
    {
     "data": {
      "text/html": [
       "<strong>png:</strong> 2"
      ],
      "text/latex": [
       "\\textbf{png:} 2"
      ],
      "text/markdown": [
       "**png:** 2"
      ],
      "text/plain": [
       "png \n",
       "  2 "
      ]
     },
     "metadata": {},
     "output_type": "display_data"
    }
   ],
   "source": [
    "cooksd <- cooks.distance(linear.model)\n",
    "cook.plot.path <- file.path(figure.folder, \"cook.png\")\n",
    "png(cook.plot.path)\n",
    "plot(cooksd, main = \"Cook's Distance\",\n",
    "     ylab = \"Cook's Distance\", xlab = \"Observation\")\n",
    "abline(h = 4/length(cooksd), col = \"red\", lty=2)\n",
    "dev.off()"
   ]
  },
  {
   "cell_type": "code",
   "execution_count": 43,
   "metadata": {
    "vscode": {
     "languageId": "r"
    }
   },
   "outputs": [
    {
     "data": {
      "text/plain": [
       "Non-constant Variance Score Test \n",
       "Variance formula: ~ fitted.values \n",
       "Chisquare = 0.1033325, Df = 1, p = 0.74787"
      ]
     },
     "metadata": {},
     "output_type": "display_data"
    },
    {
     "data": {
      "text/plain": [
       "\n",
       "\tDurbin-Watson test\n",
       "\n",
       "data:  linear.model\n",
       "DW = 2.0775, p-value = 0.8176\n",
       "alternative hypothesis: true autocorrelation is greater than 0\n"
      ]
     },
     "metadata": {},
     "output_type": "display_data"
    }
   ],
   "source": [
    "ncvTest(linear.model) # 异方差\n",
    "dwtest(linear.model) # 自相关性\n"
   ]
  },
  {
   "cell_type": "code",
   "execution_count": 44,
   "metadata": {
    "vscode": {
     "languageId": "r"
    }
   },
   "outputs": [
    {
     "name": "stdout",
     "output_type": "stream",
     "text": [
      "% latex table generated in R 4.1.2 by xtable 1.8-4 package\n",
      "% Fri Jan  5 03:36:05 2024\n",
      "\\begin{table}[ht]\n",
      "\\centering\n",
      "\\begin{tabular}{rr}\n",
      "  \\hline\n",
      " & vif(linear.model) \\\\ \n",
      "  \\hline\n",
      "fixed.acidity & 1.50 \\\\ \n",
      "  volatile.acidity & 1.45 \\\\ \n",
      "  citric.acid & 1.62 \\\\ \n",
      "  residual.sugar & 1.75 \\\\ \n",
      "  chlorides & 2.08 \\\\ \n",
      "  free.sulfur.dioxide & 2.94 \\\\ \n",
      "  total.sulfur.dioxide & 4.12 \\\\ \n",
      "  density & 1.04 \\\\ \n",
      "  pH & 2.08 \\\\ \n",
      "  sulphates & 1.49 \\\\ \n",
      "  alcohol & 1.62 \\\\ \n",
      "   \\hline\n",
      "\\end{tabular}\n",
      "\\end{table}\n"
     ]
    }
   ],
   "source": [
    "print(xtable(as.data.frame(vif(linear.model)))) # 多重共线性"
   ]
  },
  {
   "cell_type": "markdown",
   "metadata": {},
   "source": [
    "## 选模型"
   ]
  },
  {
   "cell_type": "code",
   "execution_count": 45,
   "metadata": {
    "vscode": {
     "languageId": "r"
    }
   },
   "outputs": [
    {
     "name": "stdout",
     "output_type": "stream",
     "text": [
      "% latex table generated in R 4.1.2 by xtable 1.8-4 package\n",
      "% Fri Jan  5 03:36:06 2024\n",
      "\\begin{table}[ht]\n",
      "\\centering\n",
      "\\begin{tabular}{rrrrr}\n",
      "  \\hline\n",
      " & Estimate & Std. Error & t value & Pr($>$$|$t$|$) \\\\ \n",
      "  \\hline\n",
      "(Intercept) & 0.6495 & 0.3696 & 1.76 & 0.0794 \\\\ \n",
      "  fixed.acidity & 0.0952 & 0.0190 & 5.01 & 0.0000 \\\\ \n",
      "  volatile.acidity & -1.0721 & 0.1330 & -8.06 & 0.0000 \\\\ \n",
      "  free.sulfur.dioxide & -0.0201 & 0.0026 & -7.66 & 0.0000 \\\\ \n",
      "  alcohol & 0.4991 & 0.0329 & 15.16 & 0.0000 \\\\ \n",
      "   \\hline\n",
      "\\end{tabular}\n",
      "\\end{table}\n"
     ]
    },
    {
     "data": {
      "text/plain": [
       "\n",
       "Call:\n",
       "lm(formula = quality ~ fixed.acidity + volatile.acidity + free.sulfur.dioxide + \n",
       "    alcohol, data = red.wine)\n",
       "\n",
       "Residuals:\n",
       "     Min       1Q   Median       3Q      Max \n",
       "-1.32752 -0.39307 -0.02087  0.30917  2.27175 \n",
       "\n",
       "Coefficients:\n",
       "                     Estimate Std. Error t value Pr(>|t|)    \n",
       "(Intercept)          0.649478   0.369617   1.757   0.0794 .  \n",
       "fixed.acidity        0.095214   0.019018   5.006 7.46e-07 ***\n",
       "volatile.acidity    -1.072106   0.133041  -8.058 4.78e-15 ***\n",
       "free.sulfur.dioxide -0.020101   0.002625  -7.658 8.48e-14 ***\n",
       "alcohol              0.499109   0.032922  15.160  < 2e-16 ***\n",
       "---\n",
       "Signif. codes:  0 ‘***’ 0.001 ‘**’ 0.01 ‘*’ 0.05 ‘.’ 0.1 ‘ ’ 1\n",
       "\n",
       "Residual standard error: 0.5743 on 554 degrees of freedom\n",
       "Multiple R-squared:  0.563,\tAdjusted R-squared:  0.5598 \n",
       "F-statistic: 178.4 on 4 and 554 DF,  p-value: < 2.2e-16\n"
      ]
     },
     "metadata": {},
     "output_type": "display_data"
    }
   ],
   "source": [
    "linear.model.AIC <- step(linear.model,\n",
    "                         direction = \"both\",\n",
    "                         trace = 0, criterion = \"AIC\")\n",
    "print(xtable(summary(linear.model.AIC)))\n",
    "summary(linear.model.AIC)"
   ]
  },
  {
   "cell_type": "code",
   "execution_count": 46,
   "metadata": {
    "vscode": {
     "languageId": "r"
    }
   },
   "outputs": [
    {
     "name": "stdout",
     "output_type": "stream",
     "text": [
      "% latex table generated in R 4.1.2 by xtable 1.8-4 package\n",
      "% Fri Jan  5 03:36:06 2024\n",
      "\\begin{table}[ht]\n",
      "\\centering\n",
      "\\begin{tabular}{rrrrr}\n",
      "  \\hline\n",
      " & Estimate & Std. Error & t value & Pr($>$$|$t$|$) \\\\ \n",
      "  \\hline\n",
      "(Intercept) & 0.6495 & 0.3696 & 1.76 & 0.0794 \\\\ \n",
      "  fixed.acidity & 0.0952 & 0.0190 & 5.01 & 0.0000 \\\\ \n",
      "  volatile.acidity & -1.0721 & 0.1330 & -8.06 & 0.0000 \\\\ \n",
      "  free.sulfur.dioxide & -0.0201 & 0.0026 & -7.66 & 0.0000 \\\\ \n",
      "  alcohol & 0.4991 & 0.0329 & 15.16 & 0.0000 \\\\ \n",
      "   \\hline\n",
      "\\end{tabular}\n",
      "\\end{table}\n"
     ]
    },
    {
     "data": {
      "text/plain": [
       "\n",
       "Call:\n",
       "lm(formula = quality ~ fixed.acidity + volatile.acidity + free.sulfur.dioxide + \n",
       "    alcohol, data = red.wine)\n",
       "\n",
       "Residuals:\n",
       "     Min       1Q   Median       3Q      Max \n",
       "-1.32752 -0.39307 -0.02087  0.30917  2.27175 \n",
       "\n",
       "Coefficients:\n",
       "                     Estimate Std. Error t value Pr(>|t|)    \n",
       "(Intercept)          0.649478   0.369617   1.757   0.0794 .  \n",
       "fixed.acidity        0.095214   0.019018   5.006 7.46e-07 ***\n",
       "volatile.acidity    -1.072106   0.133041  -8.058 4.78e-15 ***\n",
       "free.sulfur.dioxide -0.020101   0.002625  -7.658 8.48e-14 ***\n",
       "alcohol              0.499109   0.032922  15.160  < 2e-16 ***\n",
       "---\n",
       "Signif. codes:  0 ‘***’ 0.001 ‘**’ 0.01 ‘*’ 0.05 ‘.’ 0.1 ‘ ’ 1\n",
       "\n",
       "Residual standard error: 0.5743 on 554 degrees of freedom\n",
       "Multiple R-squared:  0.563,\tAdjusted R-squared:  0.5598 \n",
       "F-statistic: 178.4 on 4 and 554 DF,  p-value: < 2.2e-16\n"
      ]
     },
     "metadata": {},
     "output_type": "display_data"
    }
   ],
   "source": [
    "linear.model.BIC <- step(linear.model,\n",
    "                         direction = \"both\",\n",
    "                         trace = 0, criterion = \"BIC\")\n",
    "print(xtable(summary(linear.model.BIC)))\n",
    "summary(linear.model.BIC)"
   ]
  },
  {
   "cell_type": "markdown",
   "metadata": {},
   "source": [
    "## Box-cox变换"
   ]
  },
  {
   "cell_type": "code",
   "execution_count": 47,
   "metadata": {
    "vscode": {
     "languageId": "r"
    }
   },
   "outputs": [
    {
     "data": {
      "text/html": [
       "<strong>png:</strong> 2"
      ],
      "text/latex": [
       "\\textbf{png:} 2"
      ],
      "text/markdown": [
       "**png:** 2"
      ],
      "text/plain": [
       "png \n",
       "  2 "
      ]
     },
     "metadata": {},
     "output_type": "display_data"
    },
    {
     "name": "stdout",
     "output_type": "stream",
     "text": [
      "[1] -0.7474747\n"
     ]
    }
   ],
   "source": [
    "boxcox.path <- file.path(figure.folder, \"boxcox.png\")\n",
    "png(boxcox.path)\n",
    "lambdas <- boxcox(red.wine$quality ~ 1, plotit = TRUE)\n",
    "dev.off()\n",
    "best.lambda <- lambdas$x[which.max(lambdas$y)]\n",
    "print(best.lambda)"
   ]
  },
  {
   "cell_type": "markdown",
   "metadata": {},
   "source": [
    "## 主成份分析"
   ]
  },
  {
   "cell_type": "code",
   "execution_count": 48,
   "metadata": {
    "vscode": {
     "languageId": "r"
    }
   },
   "outputs": [
    {
     "data": {
      "text/plain": [
       "Importance of components:\n",
       "                          PC1    PC2    PC3     PC4     PC5     PC6     PC7\n",
       "Standard deviation     1.7721 1.5014 1.1901 1.09425 0.95740 0.92792 0.81396\n",
       "Proportion of Variance 0.2617 0.1878 0.1180 0.09978 0.07638 0.07175 0.05521\n",
       "Cumulative Proportion  0.2617 0.4496 0.5676 0.66736 0.74375 0.81550 0.87071\n",
       "                           PC8     PC9    PC10   PC11    PC12\n",
       "Standard deviation     0.67459 0.62093 0.53228 0.5299 0.38306\n",
       "Proportion of Variance 0.03792 0.03213 0.02361 0.0234 0.01223\n",
       "Cumulative Proportion  0.90863 0.94076 0.96437 0.9878 1.00000"
      ]
     },
     "metadata": {},
     "output_type": "display_data"
    }
   ],
   "source": [
    "linear.model.PCA <- prcomp(red.wine, scale = TRUE)\n",
    "summary(linear.model.PCA)"
   ]
  },
  {
   "cell_type": "markdown",
   "metadata": {},
   "source": [
    "## 增加二次项"
   ]
  },
  {
   "cell_type": "code",
   "execution_count": 49,
   "metadata": {
    "vscode": {
     "languageId": "r"
    }
   },
   "outputs": [
    {
     "name": "stdout",
     "output_type": "stream",
     "text": [
      "Model summary saved to: model-summary/square-model.txt \n",
      "% latex table generated in R 4.1.2 by xtable 1.8-4 package\n",
      "% Fri Jan  5 03:36:06 2024\n",
      "\\begin{table}[ht]\n",
      "\\centering\n",
      "\\begin{tabular}{rrrrr}\n",
      "  \\hline\n",
      " & Estimate & Std. Error & t value & Pr($>$$|$t$|$) \\\\ \n",
      "  \\hline\n",
      "(Intercept) & 5.1919 & 8.0083 & 0.65 & 0.5171 \\\\ \n",
      "  fixed.acidity & -0.6923 & 0.2256 & -3.07 & 0.0023 \\\\ \n",
      "  volatile.acidity & -2.3077 & 0.5931 & -3.89 & 0.0001 \\\\ \n",
      "  citric.acid & 2.9554 & 0.4191 & 7.05 & 0.0000 \\\\ \n",
      "  residual.sugar & -0.6555 & 0.1427 & -4.59 & 0.0000 \\\\ \n",
      "  chlorides & 0.6627 & 0.3489 & 1.90 & 0.0581 \\\\ \n",
      "  free.sulfur.dioxide & 0.0267 & 0.0156 & 1.71 & 0.0878 \\\\ \n",
      "  total.sulfur.dioxide & -0.0181 & 0.0045 & -4.02 & 0.0001 \\\\ \n",
      "  density & 0.7788 & 3.2565 & 0.24 & 0.8111 \\\\ \n",
      "  pH & -8.2459 & 4.2524 & -1.94 & 0.0530 \\\\ \n",
      "  sulphates & 0.4413 & 0.1646 & 2.68 & 0.0076 \\\\ \n",
      "  alcohol & 2.9686 & 0.7301 & 4.07 & 0.0001 \\\\ \n",
      "  fixed.acidity.2 & 0.0391 & 0.0118 & 3.32 & 0.0010 \\\\ \n",
      "  volatile.acidity.2 & 1.4698 & 0.5560 & 2.64 & 0.0084 \\\\ \n",
      "  citric.acid.2 & -2.8046 & 0.4432 & -6.33 & 0.0000 \\\\ \n",
      "  residual.sugar.2 & 0.0839 & 0.0186 & 4.51 & 0.0000 \\\\ \n",
      "  chlorides.2 & -1.1154 & 0.6064 & -1.84 & 0.0664 \\\\ \n",
      "  free.sulfur.dioxide.2 & -0.0008 & 0.0004 & -2.14 & 0.0329 \\\\ \n",
      "  total.sulfur.dioxide.2 & 0.0001 & 0.0000 & 3.49 & 0.0005 \\\\ \n",
      "  density.2 & -0.2608 & 1.6167 & -0.16 & 0.8719 \\\\ \n",
      "  pH.2 & 1.1943 & 0.6806 & 1.75 & 0.0799 \\\\ \n",
      "  sulphates.2 & -0.1783 & 0.0632 & -2.82 & 0.0050 \\\\ \n",
      "  alcohol.2 & -0.1132 & 0.0347 & -3.27 & 0.0012 \\\\ \n",
      "   \\hline\n",
      "\\end{tabular}\n",
      "\\end{table}\n"
     ]
    }
   ],
   "source": [
    "red.wine.names <- names(red.wine)[1:11]\n",
    "for(col in red.wine.names){\n",
    "    red.wine[[paste0(col, \".2\")]] <- red.wine[[col]]^2\n",
    "}\n",
    "\n",
    "# red.wine.names <- names(red.wine)\n",
    "# for(col.a in red.wine.names){\n",
    "#     for(col.b in red.wine.names){\n",
    "#         red.wine[[paste0(col.a, \".\", col.b)]] <- red.wine[[col.a]] * red.wine[[col.b]]\n",
    "#     }\n",
    "# }\n",
    "\n",
    "square.model <- lm(quality ~ ., data = red.wine)\n",
    "save_red_wine_model_summary(square.model, \"square-model\")\n",
    "par(mfrow = c(2, 2))\n",
    "square.model.plot.path <- file.path(model.summary.folder, \"square-model-plot.png\")\n",
    "# png(square.model.plot.path)\n",
    "# par(mfrow = c(2, 2))\n",
    "# plot(square.model)\n",
    "# dev.off()\n",
    "print(xtable(summary(square.model)))"
   ]
  },
  {
   "cell_type": "markdown",
   "metadata": {},
   "source": [
    "## 广义线性模型"
   ]
  },
  {
   "cell_type": "code",
   "execution_count": 50,
   "metadata": {
    "vscode": {
     "languageId": "r"
    }
   },
   "outputs": [
    {
     "data": {
      "text/plain": [
       "\n",
       "Call:\n",
       "glm(formula = red.wine$quality ~ ., family = gaussian, data = red.wine)\n",
       "\n",
       "Deviance Residuals: \n",
       "     Min        1Q    Median        3Q       Max  \n",
       "-1.24423  -0.34084  -0.03443   0.25021   2.08553  \n",
       "\n",
       "Coefficients:\n",
       "                         Estimate Std. Error t value Pr(>|t|)    \n",
       "(Intercept)             5.192e+00  8.008e+00   0.648 0.517053    \n",
       "fixed.acidity          -6.923e-01  2.256e-01  -3.069 0.002256 ** \n",
       "volatile.acidity       -2.308e+00  5.931e-01  -3.891 0.000112 ***\n",
       "citric.acid             2.955e+00  4.191e-01   7.052 5.45e-12 ***\n",
       "residual.sugar         -6.555e-01  1.427e-01  -4.592 5.47e-06 ***\n",
       "chlorides               6.627e-01  3.489e-01   1.899 0.058071 .  \n",
       "free.sulfur.dioxide     2.666e-02  1.559e-02   1.710 0.087763 .  \n",
       "total.sulfur.dioxide   -1.812e-02  4.508e-03  -4.019 6.68e-05 ***\n",
       "density                 7.788e-01  3.256e+00   0.239 0.811069    \n",
       "pH                     -8.246e+00  4.252e+00  -1.939 0.053014 .  \n",
       "sulphates               4.413e-01  1.646e-01   2.680 0.007580 ** \n",
       "alcohol                 2.969e+00  7.301e-01   4.066 5.49e-05 ***\n",
       "fixed.acidity.2         3.911e-02  1.180e-02   3.316 0.000976 ***\n",
       "volatile.acidity.2      1.470e+00  5.560e-01   2.644 0.008442 ** \n",
       "citric.acid.2          -2.805e+00  4.432e-01  -6.328 5.25e-10 ***\n",
       "residual.sugar.2        8.386e-02  1.861e-02   4.506 8.12e-06 ***\n",
       "chlorides.2            -1.115e+00  6.064e-01  -1.839 0.066403 .  \n",
       "free.sulfur.dioxide.2  -7.898e-04  3.693e-04  -2.139 0.032920 *  \n",
       "total.sulfur.dioxide.2  9.800e-05  2.808e-05   3.491 0.000522 ***\n",
       "density.2              -2.608e-01  1.617e+00  -0.161 0.871912    \n",
       "pH.2                    1.194e+00  6.806e-01   1.755 0.079887 .  \n",
       "sulphates.2            -1.783e-01  6.323e-02  -2.820 0.004980 ** \n",
       "alcohol.2              -1.132e-01  3.467e-02  -3.266 0.001160 ** \n",
       "---\n",
       "Signif. codes:  0 ‘***’ 0.001 ‘**’ 0.01 ‘*’ 0.05 ‘.’ 0.1 ‘ ’ 1\n",
       "\n",
       "(Dispersion parameter for gaussian family taken to be 0.2715934)\n",
       "\n",
       "    Null deviance: 418.05  on 558  degrees of freedom\n",
       "Residual deviance: 145.57  on 536  degrees of freedom\n",
       "AIC: 882.26\n",
       "\n",
       "Number of Fisher Scoring iterations: 2\n"
      ]
     },
     "metadata": {},
     "output_type": "display_data"
    },
    {
     "data": {
      "text/html": [
       "69.5187165775401"
      ],
      "text/latex": [
       "69.5187165775401"
      ],
      "text/markdown": [
       "69.5187165775401"
      ],
      "text/plain": [
       "[1] 69.51872"
      ]
     },
     "metadata": {},
     "output_type": "display_data"
    }
   ],
   "source": [
    "set.seed(1)\n",
    "train.data.index=sample(nrow(red.wine),size=2/3*nrow(red.wine))\n",
    "train.data=red.wine[train.data.index,]\n",
    "test.data=red.wine[-train.data.index,]\n",
    "glm.model=glm(red.wine$quality~.,family = gaussian,data=red.wine)\n",
    "summary(glm.model)\n",
    "predictions <- predict(glm.model, newdata = test.data)\n",
    "rounded_predictions <- round(predictions)\n",
    "correct_predictions <- sum(test.data$quality == rounded_predictions)\n",
    "total_predictions <- length(test.data$quality)\n",
    "\n",
    "accuracy <- correct_predictions / total_predictions\n",
    "accuracy_percentage <- accuracy * 100\n",
    "\n",
    "accuracy_percentage"
   ]
  },
  {
   "cell_type": "markdown",
   "metadata": {},
   "source": [
    "## 支持向量机"
   ]
  },
  {
   "cell_type": "code",
   "execution_count": 51,
   "metadata": {
    "vscode": {
     "languageId": "r"
    }
   },
   "outputs": [
    {
     "data": {
      "text/plain": [
       "\n",
       "Parameter tuning of ‘svm’:\n",
       "\n",
       "- sampling method: 10-fold cross validation \n",
       "\n",
       "- best parameters:\n",
       " cost gamma\n",
       "   10   0.1\n",
       "\n",
       "- best performance: 0.1714631 \n",
       "\n",
       "- Detailed performance results:\n",
       "  cost gamma     error dispersion\n",
       "1  0.1   0.1 0.3704303 0.14040196\n",
       "2  1.0   0.1 0.2216298 0.08830519\n",
       "3 10.0   0.1 0.1714631 0.04468831\n",
       "4  0.1   1.0 0.8945681 0.29212893\n",
       "5  1.0   1.0 0.5737450 0.17224173\n",
       "6 10.0   1.0 0.5496734 0.15821773\n",
       "7  0.1  10.0 0.9349910 0.30365551\n",
       "8  1.0  10.0 0.7552473 0.21677221\n",
       "9 10.0  10.0 0.7505394 0.19614669\n"
      ]
     },
     "metadata": {},
     "output_type": "display_data"
    },
    {
     "data": {
      "text/html": [
       "<strong>png:</strong> 2"
      ],
      "text/latex": [
       "\\textbf{png:} 2"
      ],
      "text/markdown": [
       "**png:** 2"
      ],
      "text/plain": [
       "png \n",
       "  2 "
      ]
     },
     "metadata": {},
     "output_type": "display_data"
    },
    {
     "data": {
      "text/html": [
       "82.8877005347594"
      ],
      "text/latex": [
       "82.8877005347594"
      ],
      "text/markdown": [
       "82.8877005347594"
      ],
      "text/plain": [
       "[1] 82.8877"
      ]
     },
     "metadata": {},
     "output_type": "display_data"
    }
   ],
   "source": [
    "set.seed(1)\n",
    "train.data.index=sample(nrow(red.wine),size=2/3*nrow(red.wine))\n",
    "train.data=red.wine[train.data.index,]\n",
    "test.data=red.wine[-train.data.index,]\n",
    "svm_model <- svm(train.data$quality ~ ., data = train.data, kernel = \"radial\")\n",
    "tuned_svm <- tune(svm, quality ~ ., data=train.data, kernel = \"radial\", ranges = list(cost = c(0.1, 1, 10), gamma = c(0.1, 1, 10)))\n",
    "summary(tuned_svm)\n",
    "\n",
    "svm.path <- file.path(model.summary.folder, \"svm.png\")\n",
    "png(svm.path)\n",
    "plot(tuned_svm)\n",
    "dev.off()\n",
    "\n",
    "predictions <- predict(svm_model, newdata = test.data)\n",
    "rounded_predictions <- round(predictions)\n",
    "correct_predictions <- sum(test.data$quality == rounded_predictions)\n",
    "total_predictions <- length(test.data$quality)\n",
    "\n",
    "accuracy <- correct_predictions / total_predictions\n",
    "accuracy_percentage <- accuracy * 100\n",
    "\n",
    "accuracy_percentage"
   ]
  }
 ],
 "metadata": {
  "kernelspec": {
   "display_name": "R",
   "language": "R",
   "name": "ir"
  },
  "language_info": {
   "codemirror_mode": "r",
   "file_extension": ".r",
   "mimetype": "text/x-r-source",
   "name": "R",
   "pygments_lexer": "r",
   "version": "4.1.2"
  }
 },
 "nbformat": 4,
 "nbformat_minor": 2
}
