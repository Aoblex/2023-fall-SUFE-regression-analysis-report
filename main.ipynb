{
 "cells": [
  {
   "cell_type": "markdown",
   "metadata": {},
   "source": [
    "# 数据预处理"
   ]
  },
  {
   "cell_type": "markdown",
   "metadata": {},
   "source": [
    "## 读取数据"
   ]
  },
  {
   "cell_type": "code",
   "execution_count": 1,
   "metadata": {
    "vscode": {
     "languageId": "r"
    }
   },
   "outputs": [],
   "source": [
    "# 读取数据\n",
    "lung.cancer <- read.csv(\"lung-cancer.csv\")"
   ]
  },
  {
   "cell_type": "markdown",
   "metadata": {},
   "source": [
    "## 处理特征"
   ]
  },
  {
   "cell_type": "code",
   "execution_count": 2,
   "metadata": {
    "vscode": {
     "languageId": "r"
    }
   },
   "outputs": [
    {
     "name": "stdout",
     "output_type": "stream",
     "text": [
      "'data.frame':\t790 obs. of  24 variables:\n",
      " $ Age.recode.with.single.ages.and.90.                   : int  78 81 66 64 64 73 79 64 65 75 ...\n",
      " $ Sex                                                   : Factor w/ 2 levels \"Female\",\"Male\": 2 1 1 2 1 2 1 2 1 2 ...\n",
      " $ Race.recode..W..B..AI..API.                           : Factor w/ 4 levels \"American Indian/Alaska Native\",..: 4 4 4 4 4 4 4 4 3 4 ...\n",
      " $ Rural.Urban.Continuum.Code                            : Factor w/ 5 levels \"Counties in metropolitan areas ge 1 million pop\",..: 1 1 1 2 2 2 4 4 2 4 ...\n",
      " $ Marital.status.at.diagnosis                           : Factor w/ 6 levels \"Divorced\",\"Married (including common law)\",..: 2 6 2 4 1 2 6 2 2 2 ...\n",
      " $ Median.household.income.inflation.adj.to.2021         : Factor w/ 10 levels \"< $35,000\",\"$35,000 - $39,999\",..: 10 10 10 9 10 9 6 6 9 6 ...\n",
      " $ Primary.Site                                          : Factor w/ 6 levels \"340\",\"341\",\"342\",..: 4 2 4 2 1 2 2 4 4 4 ...\n",
      " $ Combined.Summary.Stage..2004..                        : Factor w/ 4 levels \"Distant\",\"In situ\",..: 3 3 3 1 1 4 4 1 1 4 ...\n",
      " $ Grade.Clinical..2018..                                : Factor w/ 5 levels \"1\",\"2\",\"3\",\"4\",..: 5 5 5 5 5 3 5 5 5 5 ...\n",
      " $ Grade.Pathological..2018..                            : Factor w/ 5 levels \"1\",\"2\",\"3\",\"4\",..: 2 1 1 5 5 3 2 5 5 3 ...\n",
      " $ Separate.Tumor.Nodules.Ipsilateral.Lung.Recode..2010..: Factor w/ 6 levels \"None; No intrapulmonary mets; Foci in situ/minimally invasive adenocarcinoma\",..: 5 1 1 6 1 1 1 3 1 1 ...\n",
      " $ Visceral.and.Parietal.Pleural.Invasion.Recode..2010.. : Factor w/ 5 levels \"Not documented; No resection of primary; Not assessed or unknown if assessed\",..: 2 2 2 1 1 3 3 1 2 3 ...\n",
      " $ Tumor.Size.Summary..2016..                            : int  12 9 10 66 73 19 18 34 45 25 ...\n",
      " $ Regional.nodes.positive..1988..                       : int  0 0 0 1 2 0 0 1 0 0 ...\n",
      " $ Regional.nodes.examined..1988..                       : int  7 13 8 2 5 11 12 1 4 7 ...\n",
      " $ EOD.Mets..2018..                                      : Factor w/ 6 levels \"0\",\"10\",\"20\",..: 1 1 1 5 4 1 1 1 5 1 ...\n",
      " $ Months.from.diagnosis.to.treatment                    : int  0 0 0 0 0 0 1 0 1 0 ...\n",
      " $ Radiation.recode                                      : Factor w/ 8 levels \"Beam radiation\",..: 3 3 3 1 3 3 3 3 3 3 ...\n",
      " $ Chemotherapy.recode..yes..no.unk.                     : Factor w/ 2 levels \"No/Unknown\",\"Yes\": 1 1 1 1 1 1 1 1 1 1 ...\n",
      " $ RX.Summ..Surg.Rad.Seq                                 : Factor w/ 8 levels \"Intraoperative rad with other rad before/after surgery\",..: 3 3 3 4 3 3 3 3 3 3 ...\n",
      " $ RX.Summ..Systemic.Sur.Seq..2007..                     : Factor w/ 7 levels \"Intraop systemic rx & oth systemic rx before/after surg\",..: 2 2 2 2 2 2 2 2 2 2 ...\n",
      " $ Year.of.diagnosis                                     : Factor w/ 3 levels \"2018\",\"2019\",..: 1 2 2 1 1 1 1 1 3 2 ...\n",
      " $ Year.of.death.recode                                  : Factor w/ 4 levels \"2018\",\"2019\",..: 1 2 2 1 1 1 1 1 3 2 ...\n",
      " $ Survival.months                                       : num  1 1 1 1 1 1 1 1 1 1 ...\n"
     ]
    }
   ],
   "source": [
    "# 数值型变量\n",
    "num_columns <- c(\n",
    "    \"Age.recode.with.single.ages.and.90.\",\n",
    "    \"Tumor.Size.Summary..2016..\",\n",
    "    \"Regional.nodes.positive..1988..\",\n",
    "    \"Regional.nodes.examined..1988..\",\n",
    "    \"Months.from.diagnosis.to.treatment\",\n",
    "    \"Survival.months\"\n",
    ")\n",
    "\n",
    "# 将非数值型变量转化为 factor\n",
    "lung.cancer[, !names(lung.cancer) %in% num_columns] <- lapply(lung.cancer[, !names(lung.cancer) %in% num_columns], as.factor)\n",
    "\n",
    "# 记录事件\n",
    "lung.cancer$Event <- (lung.cancer$Year.of.death.recode != \"Alive at last contact\")\n",
    "\n",
    "# 去除 Tumor size 的缺失值\n",
    "lung.cancer <- lung.cancer[lung.cancer$Tumor.Size.Summary..2016..<990, ]\n",
    "\n",
    "# 去除 censored data\n",
    "lung.cancer <- lung.cancer[lung.cancer$Year.of.death.recode != \"Alive at last contact\", ]\n",
    "\n",
    "# 去除淋巴结数量缺失的数据\n",
    "lung.cancer <- lung.cancer[lung.cancer$Regional.nodes.positive..1988..<=90, ]\n",
    "lung.cancer <- lung.cancer[lung.cancer$Regional.nodes.examined..1988..<=90, ]\n",
    "\n",
    "# 假定死亡发生在月末\n",
    "lung.cancer$Survival.months <- lung.cancer$Survival.months + 1\n",
    "\n",
    "# 按照 Survival.months 排序\n",
    "lung.cancer <- lung.cancer[order(lung.cancer$Survival.months), ]\n",
    "\n",
    "# 挑选需要的特征\n",
    "columns_to_select <- c(\n",
    "\n",
    "    # ------- 基本信息 ------- #\n",
    "   #\"Patient.ID\",                                            # 病人ID\n",
    "    \"Age.recode.with.single.ages.and.90.\",                   # 年龄 <数值型>\n",
    "    \"Sex\",                                                   # 性别\n",
    "    \"Race.recode..W..B..AI..API.\",                           # 种族\n",
    "    \"Rural.Urban.Continuum.Code\",                            # 所在县\n",
    "    \"Marital.status.at.diagnosis\",                           # 确诊时婚姻状况\n",
    "    \"Median.household.income.inflation.adj.to.2021\",         # 所在县的收入数据\n",
    "\n",
    "    # ------- 肿瘤相关信息 ------- #\n",
    "    \"Primary.Site\",                                          # 原发部位\n",
    "    \"Combined.Summary.Stage..2004..\",                        # 癌症分期信息\n",
    "   #\"Behavior.code.ICD.O.3\",                                 # 肿瘤行为\n",
    "   #\"Histology.recode...broad.groupings\",                    # 癌症组织\n",
    "    \"Grade.Clinical..2018..\",                                # 临床分级\n",
    "    \"Grade.Pathological..2018..\",                            # 病理分级\n",
    "    \"Separate.Tumor.Nodules.Ipsilateral.Lung.Recode..2010..\",# 肺部同侧肿瘤结节\n",
    "    \"Visceral.and.Parietal.Pleural.Invasion.Recode..2010..\", # 胸膜侵犯\n",
    "    \"Tumor.Size.Summary..2016..\",                            # 肿瘤大小 <数值型>\n",
    "    \"Regional.nodes.positive..1988..\",                       # 区域positive淋巴结 <数值型>\n",
    "    \"Regional.nodes.examined..1988..\",                       # 区域examined淋巴结 <数值型>\n",
    "   #\"EOD.Primary.Tumor..2018..\",                             # 确诊时的肿瘤情况 https://staging.seer.cancer.gov/eod_public/input/3.1/lung/eod_primary_tumor/?breadcrumbs=(~schema_list~),(~view_schema~,~lung~)\n",
    "   #\"EOD.Regional.Nodes..2018..\",                            # 确诊时的淋巴结情况 https://staging.seer.cancer.gov/eod_public/input/3.1/lung/eod_regional_nodes/?breadcrumbs=(~schema_list~),(~view_schema~,~lung~)\n",
    "    \"EOD.Mets..2018..\",                                      # 用于在诊断时对远处转移受累部位进行分类 https://staging.seer.cancer.gov/eod_public/input/3.1/lung/eod_mets/?breadcrumbs=(~schema_list~),(~view_schema~,~lung~)\n",
    "\n",
    "    # ------- 治疗信息 ------- #\n",
    "    \"Months.from.diagnosis.to.treatment\",                    # 确诊到治疗的月数 <数值型>\n",
    "    \"Radiation.recode\",                                      # 辐射治疗\n",
    "    \"Chemotherapy.recode..yes..no.unk.\",                     # 化学治疗\n",
    "    \"RX.Summ..Surg.Rad.Seq\",                                 # 治疗顺序\n",
    "    \"RX.Summ..Systemic.Sur.Seq..2007..\",                     # 治疗顺序\n",
    "\n",
    "    # ------- 时间线 ------- #\n",
    "    \"Year.of.diagnosis\",                                     # 确诊年份\n",
    "   #\"Year.of.follow.up.recode\",                              # 跟进时间\n",
    "    \"Year.of.death.recode\",                                  # 死亡年份\n",
    "    \"Survival.months\",                                       # 存活月数 <数值型>\n",
    "\n",
    "    # ------- 其他 ------- #\n",
    "    #\"Derived.EOD.2018.T..2018..\",                           \n",
    "    #\"Derived.EOD.2018.N..2018..\",                           \n",
    "    #\"Derived.EOD.2018.M..2018..\",                           \n",
    "    #\"Derived.EOD.2018.Stage.Group..2018..\",                 \n",
    "    \"\"\n",
    ")\n",
    "lung.cancer <- lung.cancer[, names(lung.cancer) %in% columns_to_select]\n",
    "str(lung.cancer)"
   ]
  },
  {
   "cell_type": "markdown",
   "metadata": {},
   "source": [
    "# 描述性统计"
   ]
  },
  {
   "cell_type": "markdown",
   "metadata": {},
   "source": [
    "# 数据建模"
   ]
  },
  {
   "cell_type": "code",
   "execution_count": 3,
   "metadata": {
    "vscode": {
     "languageId": "r"
    }
   },
   "outputs": [],
   "source": [
    "summarize.model <- function(model, filename){\n",
    "    model.summary <- summary(model)\n",
    "    output <- capture.output(model.summary)\n",
    "    writeLines(output, filename)\n",
    "}"
   ]
  },
  {
   "cell_type": "markdown",
   "metadata": {},
   "source": [
    "## 线性模型"
   ]
  },
  {
   "cell_type": "markdown",
   "metadata": {},
   "source": [
    "### 模型拟合"
   ]
  },
  {
   "cell_type": "code",
   "execution_count": 4,
   "metadata": {
    "vscode": {
     "languageId": "r"
    }
   },
   "outputs": [],
   "source": [
    "linear.model <- lm(Survival.months ~ ., data=lung.cancer)\n",
    "summarize.model(linear.model, \"./model-summary/linear_model_summary.txt\")"
   ]
  },
  {
   "cell_type": "markdown",
   "metadata": {},
   "source": [
    "### 预测图像"
   ]
  },
  {
   "cell_type": "code",
   "execution_count": 5,
   "metadata": {
    "vscode": {
     "languageId": "r"
    }
   },
   "outputs": [],
   "source": [
    "y_pred <- predict(linear.model, newdata = lung.cancer)\n",
    "y_true <- lung.cancer$Survival.months\n",
    "result_df <- data.frame(Actual = y_true, Predicted = y_pred)\n",
    "library(ggplot2)\n",
    "linear.prediction <- ggplot(result_df, aes(x = 1:length(y_true))) +\n",
    "                     geom_line(aes(y = Actual, color = \"Actual\"), linewidth = 1) +\n",
    "                     geom_line(aes(y = Predicted, color = \"Predicted\"), linetype = \"dashed\", linewidth = 1) +\n",
    "                     labs(title = \"Actual vs Predicted Over Observations\",\n",
    "                     x = \"Observations\", y = \"Values\") +\n",
    "                     scale_color_manual(values = c(\"Actual\" = \"blue\", \"Predicted\" = \"red\"))\n",
    "ggsave(\"./figures/linear_prediction.png\", linear.prediction, width = 8, height = 6, dpi = 300)"
   ]
  },
  {
   "cell_type": "markdown",
   "metadata": {},
   "source": [
    "## 广义线性模型(y分布如何选择?)"
   ]
  },
  {
   "cell_type": "markdown",
   "metadata": {},
   "source": [
    "### 模型拟合"
   ]
  },
  {
   "cell_type": "code",
   "execution_count": 6,
   "metadata": {
    "vscode": {
     "languageId": "r"
    }
   },
   "outputs": [],
   "source": [
    "library(MASS)\n",
    "glinear.model <- glm(Survival.months ~ ., data=lung.cancer, family = gaussian) # 负二项分布\n",
    "summarize.model(glinear.model, \"./model-summary/generalized_linear_model_summary.txt\")"
   ]
  },
  {
   "cell_type": "markdown",
   "metadata": {},
   "source": [
    "### 预测图像"
   ]
  },
  {
   "cell_type": "code",
   "execution_count": 7,
   "metadata": {
    "vscode": {
     "languageId": "r"
    }
   },
   "outputs": [],
   "source": [
    "y_pred <- predict(glinear.model, newdata = lung.cancer)\n",
    "y_true <- lung.cancer$Survival.months\n",
    "result_df <- data.frame(Actual = y_true, Predicted = y_pred)\n",
    "glinear.prediction <- ggplot(result_df, aes(x = 1:length(y_true))) +\n",
    "                     geom_line(aes(y = Actual, color = \"Actual\"), linewidth = 1) +\n",
    "                     geom_line(aes(y = Predicted, color = \"Predicted\"), linetype = \"dashed\", linewidth = 1) +\n",
    "                     labs(title = \"Actual vs Predicted Over Observations\",\n",
    "                     x = \"Observations\", y = \"Values\") +\n",
    "                     scale_color_manual(values = c(\"Actual\" = \"blue\", \"Predicted\" = \"red\"))\n",
    "ggsave(\"./figures/glinear_prediction.png\", glinear.prediction, width = 8, height = 6, dpi = 300)"
   ]
  },
  {
   "cell_type": "markdown",
   "metadata": {},
   "source": [
    "## box-cox"
   ]
  },
  {
   "cell_type": "markdown",
   "metadata": {},
   "source": [
    "### 模型拟合"
   ]
  },
  {
   "cell_type": "code",
   "execution_count": 8,
   "metadata": {
    "vscode": {
     "languageId": "r"
    }
   },
   "outputs": [
    {
     "data": {
      "image/png": "[encoded data removed]",
      "text/plain": [
       "plot without title"
      ]
     },
     "metadata": {
      "image/png": {
       "height": 420,
       "width": 420
      }
     },
     "output_type": "display_data"
    }
   ],
   "source": [
    "boxcox.model <- boxcox(Survival.months ~ ., data = lung.cancer)\n",
    "lambda <- boxcox.model$x[which.max(boxcox.model$y)]\n",
    "bclinear.model <- lm((Survival.months^lambda - 1)/lambda ~ ., data = lung.cancer)\n",
    "summarize.model(bclinear.model, \"./model-summary/boxcox_linear_model_summary.txt\")"
   ]
  },
  {
   "cell_type": "markdown",
   "metadata": {},
   "source": [
    "### 预测图像"
   ]
  },
  {
   "cell_type": "code",
   "execution_count": 9,
   "metadata": {
    "vscode": {
     "languageId": "r"
    }
   },
   "outputs": [],
   "source": [
    "y_pred <- predict(bclinear.model, newdata = lung.cancer)\n",
    "y_true <- (lung.cancer$Survival.months^lambda - 1)/lambda\n",
    "result_df <- data.frame(Actual = y_true, Predicted = y_pred)\n",
    "bclinear.prediction <- ggplot(result_df, aes(x = 1:length(y_true))) +\n",
    "                     geom_line(aes(y = Actual, color = \"Actual\"), linewidth = 1) +\n",
    "                     geom_line(aes(y = Predicted, color = \"Predicted\"), linetype = \"dashed\", linewidth = 1) +\n",
    "                     labs(title = \"Actual vs Predicted Over Observations\",\n",
    "                     x = \"Observations\", y = \"Values\") +\n",
    "                     scale_color_manual(values = c(\"Actual\" = \"blue\", \"Predicted\" = \"red\"))\n",
    "ggsave(\"./figures/bclinear_prediction.png\", bclinear.prediction, width = 8, height = 6, dpi = 300)"
   ]
  },
  {
   "cell_type": "markdown",
   "metadata": {},
   "source": [
    "## 岭回归"
   ]
  },
  {
   "cell_type": "markdown",
   "metadata": {},
   "source": [
    "### 模型拟合"
   ]
  },
  {
   "cell_type": "code",
   "execution_count": 10,
   "metadata": {
    "vscode": {
     "languageId": "r"
    }
   },
   "outputs": [
    {
     "name": "stderr",
     "output_type": "stream",
     "text": [
      "Loading required package: Matrix\n",
      "\n",
      "Loaded glmnet 4.1-8\n",
      "\n"
     ]
    }
   ],
   "source": [
    "library(glmnet)\n",
    "lung.cancer.x <- lung.cancer[, !(names(lung.cancer) %in% c(\"Survival.months\"))]\n",
    "lung.cancer.y <- lung.cancer$Survival.months\n",
    "rlinear.model <- glmnet(lung.cancer.x, lung.cancer.y, alpha = 0, lambda = seq(from = 1, to = 1000, by = 1))"
   ]
  },
  {
   "cell_type": "markdown",
   "metadata": {},
   "source": [
    "### 预测图像"
   ]
  },
  {
   "cell_type": "code",
   "execution_count": 11,
   "metadata": {
    "vscode": {
     "languageId": "r"
    }
   },
   "outputs": [
    {
     "data": {
      "image/png": "[encoded data removed]",
      "text/plain": [
       "plot without title"
      ]
     },
     "metadata": {
      "image/png": {
       "height": 420,
       "width": 420
      }
     },
     "output_type": "display_data"
    }
   ],
   "source": [
    "plot(rlinear.model, xvar = \"lambda\", label = TRUE)"
   ]
  }
 ],
 "metadata": {
  "kernelspec": {
   "display_name": "R",
   "language": "R",
   "name": "ir"
  },
  "language_info": {
   "codemirror_mode": "r",
   "file_extension": ".r",
   "mimetype": "text/x-r-source",
   "name": "R",
   "pygments_lexer": "r",
   "version": "4.1.2"
  }
 },
 "nbformat": 4,
 "nbformat_minor": 2
}
