{
 "cells": [
  {
   "cell_type": "markdown",
   "metadata": {},
   "source": [
    "# 数据预处理"
   ]
  },
  {
   "cell_type": "markdown",
   "metadata": {},
   "source": [
    "## 读取数据"
   ]
  },
  {
   "cell_type": "code",
   "execution_count": 1,
   "metadata": {
    "vscode": {
     "languageId": "r"
    }
   },
   "outputs": [],
   "source": [
    "# 读取数据\n",
    "lung.cancer <- read.csv(\"lung-cancer.csv\")\n",
    "\n",
    "# 去除不需要的特征\n",
    "columns_to_remove <- c(\"Patient.ID\",\n",
    "                       \"Year.of.death.recode\",\n",
    "                       \"Year.of.follow.up.recode\",\n",
    "                       \"Regional.nodes.positive..1988..\",\n",
    "                       \"Regional.nodes.examined..1988..\",\n",
    "                       \"Derived.EOD.2018.T..2018..\",\n",
    "                       \"Derived.EOD.2018.N..2018..\",\n",
    "                       \"Derived.EOD.2018.M..2018..\",\n",
    "                       \"Derived.EOD.2018.Stage.Group..2018..\",\n",
    "                       \"RX.Summ..Surg.Rad.Seq\",\n",
    "                       \"RX.Summ..Systemic.Sur.Seq..2007..\",\n",
    "                       \"EOD.Primary.Tumor..2018..\")\n",
    "                       #\"Histology.recode...broad.groupings\")\n",
    "lung.cancer <- lung.cancer[, !names(lung.cancer) %in% columns_to_remove]"
   ]
  },
  {
   "cell_type": "markdown",
   "metadata": {},
   "source": [
    "## 处理特征"
   ]
  },
  {
   "cell_type": "code",
   "execution_count": 2,
   "metadata": {
    "vscode": {
     "languageId": "r"
    }
   },
   "outputs": [],
   "source": [
    "# 数值型变量\n",
    "num_columns <- c(\"Tumor.Size.Summary..2016..\",\n",
    "                 \"Survival.months\",\n",
    "                 \"Months.from.diagnosis.to.treatment\",\n",
    "                 \"Age.recode.with.single.ages.and.90.\")\n",
    "\n",
    "# 将非数值型变量转化为 factor\n",
    "lung.cancer[, !names(lung.cancer) %in% num_columns] <- lapply(lung.cancer[, !names(lung.cancer) %in% num_columns], as.factor)\n",
    "\n",
    "# 去除 Tumor size 的缺失值\n",
    "lung.cancer <- lung.cancer[lung.cancer$Tumor.Size.Summary..2016..<990, ]"
   ]
  },
  {
   "cell_type": "markdown",
   "metadata": {},
   "source": [
    "# 描述性统计"
   ]
  },
  {
   "cell_type": "markdown",
   "metadata": {},
   "source": [
    "# 数据建模"
   ]
  },
  {
   "cell_type": "code",
   "execution_count": 3,
   "metadata": {
    "vscode": {
     "languageId": "r"
    }
   },
   "outputs": [],
   "source": [
    "summarize.model <- function(model, filename){\n",
    "    model.summary <- summary(model)\n",
    "    output <- capture.output(model.summary)\n",
    "    writeLines(output, filename)\n",
    "    # output.vars <- capture.output(summary(model)$coefficients[, \"Pr(>|t|)\"] < 0.05)\n",
    "    # writeLines(output.vars, paste(\"significant_cars_\", filename))\n",
    "}"
   ]
  },
  {
   "cell_type": "markdown",
   "metadata": {},
   "source": [
    "## 线性模型"
   ]
  },
  {
   "cell_type": "code",
   "execution_count": 6,
   "metadata": {
    "vscode": {
     "languageId": "r"
    }
   },
   "outputs": [
    {
     "name": "stdout",
     "output_type": "stream",
     "text": [
      "[1] 185557.2\n"
     ]
    }
   ],
   "source": [
    "linear.model <- lm(Survival.months ~ ., data=lung.cancer)\n",
    "summarize.model(linear.model, \"linear_model_summary.txt\")\n",
    "aic_value <- AIC(linear.model)\n",
    "print(aic_value)"
   ]
  },
  {
   "cell_type": "markdown",
   "metadata": {},
   "source": [
    "## 广义线性模型"
   ]
  },
  {
   "cell_type": "code",
   "execution_count": 5,
   "metadata": {
    "vscode": {
     "languageId": "r"
    }
   },
   "outputs": [],
   "source": [
    "library(MASS)\n",
    "glinear.model <- glm.nb(Survival.months ~ ., data=lung.cancer)\n",
    "summarize.model(glinear.model, \"generalized_linear_model_summary.txt\")"
   ]
  }
 ],
 "metadata": {
  "kernelspec": {
   "display_name": "R 4.3.2",
   "language": "R",
   "name": "ir432"
  },
  "language_info": {
   "codemirror_mode": "r",
   "file_extension": ".r",
   "mimetype": "text/x-r-source",
   "name": "R",
   "pygments_lexer": "r",
   "version": "4.3.2"
  }
 },
 "nbformat": 4,
 "nbformat_minor": 2
}
